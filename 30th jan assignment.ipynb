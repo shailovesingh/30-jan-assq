{
 "cells": [
  {
   "cell_type": "code",
   "execution_count": null,
   "id": "dc78df39-82c6-48b1-839e-4f268777afc1",
   "metadata": {},
   "outputs": [],
   "source": [
    "#Q1\n",
    "\n",
    "marks = float(input(\"Enter your marks\"))\n",
    "\n",
    "if marks > 90 :\n",
    "    print(\"Grade A\")\n",
    "elif marks > 80 and marks <= 90:\n",
    "    print(\"Grade B\")\n",
    "elif marks >= 60 and marks <= 80 :\n",
    "    print(\"Grade C\")\n",
    "elif marks < 60 :\n",
    "    print(\"Grade D\")\n",
    "\n",
    "\n",
    "    "
   ]
  },
  {
   "cell_type": "code",
   "execution_count": null,
   "id": "b1562326-27f4-487f-b91e-408bcbf7d1fd",
   "metadata": {},
   "outputs": [],
   "source": [
    "#Q2\n",
    "\n",
    "cost_price = int(input(\"Enter bike cost\"))\n",
    "\n",
    "if cost_price > 100000 :\n",
    "    print(\"Tax is 15%\")\n",
    "elif cost_price > 50000 and cost_price <= 10000:\n",
    "    print(\"Tax is 10%\")\n",
    "elif cost_price <= 50000 :\n",
    "    print(\"Tax is 5%\")\n"
   ]
  },
  {
   "cell_type": "code",
   "execution_count": 1,
   "id": "fbe0f816-a9e3-4e40-97fd-62b807a47467",
   "metadata": {},
   "outputs": [
    {
     "name": "stdin",
     "output_type": "stream",
     "text": [
      "Enter the city Delhi\n"
     ]
    },
    {
     "name": "stdout",
     "output_type": "stream",
     "text": [
      "Monuments of this city is Red Fort\n"
     ]
    }
   ],
   "source": [
    "#Q3.\n",
    "\n",
    "city = str(input(\"Enter the city\"))\n",
    "\n",
    "if city == 'Delhi'  :\n",
    "    print(\"Monuments of this city is Red Fort\")\n",
    "elif city == 'Agra':\n",
    "    print(\"Monuments of this city is Taj Mahal\")\n",
    "elif city == 'Jaipur' :\n",
    "    print(\"Monuments of this city is Jal Mahal\")"
   ]
  },
  {
   "cell_type": "code",
   "execution_count": 3,
   "id": "11f13e4d-daca-4100-bcd8-b77b9c15668b",
   "metadata": {},
   "outputs": [
    {
     "name": "stdout",
     "output_type": "stream",
     "text": [
      "6.0\n",
      "6.0\n",
      "6.0\n",
      "6.0\n",
      "6.0\n",
      "6.0\n",
      "6.0\n",
      "6.0\n",
      "6.0\n",
      "6.0\n"
     ]
    }
   ],
   "source": [
    "num = 18\n",
    "counter = 1\n",
    "\n",
    "while counter <= 10:\n",
    "    result = num / 3\n",
    "    print(result)\n",
    "    counter = counter + 1"
   ]
  },
  {
   "cell_type": "code",
   "execution_count": 2,
   "id": "13b0b8ff-a6cd-4ecc-98ca-cbace6af2ccd",
   "metadata": {},
   "outputs": [
    {
     "name": "stdout",
     "output_type": "stream",
     "text": [
      "10\n",
      "9\n",
      "8\n",
      "7\n",
      "6\n",
      "5\n",
      "4\n",
      "3\n",
      "2\n",
      "1\n"
     ]
    }
   ],
   "source": [
    "#Q5.\n",
    "''' While loop is used when the number of iterations is already Unknown.'''\n",
    "\n",
    "i = 10\n",
    "\n",
    "while(i>=1):\n",
    "    print(i)\n",
    "    i = i-1"
   ]
  },
  {
   "cell_type": "code",
   "execution_count": 7,
   "id": "0dfb2cad-0167-4c60-8d6a-4a31907ed933",
   "metadata": {},
   "outputs": [
    {
     "name": "stdout",
     "output_type": "stream",
     "text": [
      "x\n",
      "x\n",
      "x\n",
      "$\n",
      "$$\n",
      "$$$\n",
      "&\n",
      "&&\n",
      "&&&\n"
     ]
    }
   ],
   "source": [
    "#Q6.\n",
    "\n",
    "i = 1\n",
    "while i <= 3:\n",
    "    print(\"x\"*1)\n",
    "    i = i + 1\n",
    "\n",
    "#2\n",
    "\n",
    "n = 1\n",
    "while n <= 3:\n",
    "    print(\"$\"*n)\n",
    "    n = n + 1\n",
    "\n",
    "#3\n",
    "\n",
    "m = 1\n",
    "while m <= 3:\n",
    "    print(\"&\"*m)\n",
    "    m = m + 1"
   ]
  },
  {
   "cell_type": "code",
   "execution_count": null,
   "id": "371658c8-ac9d-45a8-848c-752e93b0f868",
   "metadata": {},
   "outputs": [],
   "source": [
    "#Q7.\n",
    "\n",
    "i = 10\n",
    "\n",
    "while(i>=1):\n",
    "    print(i)\n",
    "    i = i-1"
   ]
  },
  {
   "cell_type": "code",
   "execution_count": null,
   "id": "3b37f016-ed11-43f5-ad69-b449f9282865",
   "metadata": {},
   "outputs": [],
   "source": [
    "#Q8.\n",
    "\n",
    "i = 10\n",
    "\n",
    "while(i>=1):\n",
    "    print(i)\n",
    "    i = i-1"
   ]
  }
 ],
 "metadata": {
  "kernelspec": {
   "display_name": "Python 3 (ipykernel)",
   "language": "python",
   "name": "python3"
  },
  "language_info": {
   "codemirror_mode": {
    "name": "ipython",
    "version": 3
   },
   "file_extension": ".py",
   "mimetype": "text/x-python",
   "name": "python",
   "nbconvert_exporter": "python",
   "pygments_lexer": "ipython3",
   "version": "3.10.8"
  }
 },
 "nbformat": 4,
 "nbformat_minor": 5
}
